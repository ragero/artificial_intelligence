{
  "nbformat": 4,
  "nbformat_minor": 0,
  "metadata": {
    "colab": {
      "name": "IA_Aprendizado_de_Máquina.ipynb",
      "provenance": [],
      "collapsed_sections": [],
      "toc_visible": true
    },
    "kernelspec": {
      "name": "python3",
      "display_name": "Python 3"
    }
  },
  "cells": [
    {
      "cell_type": "markdown",
      "metadata": {
        "id": "kZnL5WWPM7Xa"
      },
      "source": [
        " # Bibliotecas"
      ]
    },
    {
      "cell_type": "code",
      "metadata": {
        "id": "f9z8hNZNHfYz"
      },
      "source": [
        "#Importações de Bases de Dados\n",
        "from sklearn.datasets import load_iris\n",
        "\n",
        "#Importação de Esquemas de Avaliação\n",
        "from sklearn.model_selection import StratifiedKFold\n",
        "\n",
        "#Importação de Modelos de Classificação\n",
        "from sklearn.neural_network import MLPClassifier\n",
        "from sklearn.neighbors import KNeighborsClassifier\n",
        "from sklearn.naive_bayes import GaussianNB\n",
        "from sklearn.naive_bayes import CategoricalNB\n",
        "from sklearn.tree import DecisionTreeClassifier\n",
        "from sklearn.dummy import DummyClassifier\n",
        "\n",
        "\n",
        "#Importação de Métricas de Avaliação\n",
        "from sklearn.metrics import accuracy_score\n",
        "from sklearn.metrics import recall_score\n",
        "from sklearn.metrics import precision_score\n",
        "from sklearn.metrics import f1_score\n",
        "from sklearn.metrics import confusion_matrix\n",
        "\n",
        "#Importação de Utilitários\n",
        "import pandas as pd\n",
        "import numpy as np"
      ],
      "execution_count": null,
      "outputs": []
    },
    {
      "cell_type": "markdown",
      "metadata": {
        "id": "9GNw3MGoe-9A"
      },
      "source": [
        "# Funções"
      ]
    },
    {
      "cell_type": "markdown",
      "metadata": {
        "id": "JEM7qYIsfBJ8"
      },
      "source": [
        "## Preprocessamento dos Dados"
      ]
    },
    {
      "cell_type": "markdown",
      "metadata": {
        "id": "w1qbPln3hkH0"
      },
      "source": [
        "### Mapeando os valores de atributos discretos dado um dicionário criado manualmente"
      ]
    },
    {
      "cell_type": "code",
      "metadata": {
        "id": "8r_AOt5sfHs7"
      },
      "source": [
        "def preproc_dicionario(df,dicionario):  \n",
        "  for column in df.columns[:-1]:\n",
        "    if column in dicionario:\n",
        "      df[column] = df[column].replace(dicionario[column])"
      ],
      "execution_count": null,
      "outputs": []
    },
    {
      "cell_type": "markdown",
      "metadata": {
        "id": "uVFn2Jw5hq5-"
      },
      "source": [
        "### Mapeando os valores de atributos discretos utilizando LabelEncoders"
      ]
    },
    {
      "cell_type": "code",
      "metadata": {
        "id": "nIiKQkbcfM2C"
      },
      "source": [
        "def preproc_enconder(df):\n",
        "  dict_encoders = {}\n",
        "  for column in df.columns[:-1]:\n",
        "    encoder_column = LabelEncoder()\n",
        "    df[column] = encoder_column.fit_transform(df[column])\n",
        "    dict_encoders[column] = encoder_column\n",
        "  \n",
        "  return dict_encoders"
      ],
      "execution_count": null,
      "outputs": []
    },
    {
      "cell_type": "markdown",
      "metadata": {
        "id": "D-0nqNvWfEXe"
      },
      "source": [
        "## Avaliação do Modelo de Classificação"
      ]
    },
    {
      "cell_type": "code",
      "metadata": {
        "id": "DzZLW_98jPrC"
      },
      "source": [
        "def evaluate(y_test, y_pred):\n",
        "  dict_results = {}\n",
        "  dict_results['Acurácia'] = accuracy_score(y_test, y_pred)\n",
        "  dict_results['Micro Revocação'] = recall_score(y_test, y_pred, average='micro')\n",
        "  dict_results['Macro Revocação'] = recall_score(y_test, y_pred, average='macro')\n",
        "  dict_results['Micro Precisao'] = precision_score(y_test, y_pred, average='micro')\n",
        "  dict_results['Macro Precisao'] = precision_score(y_test, y_pred, average='macro')\n",
        "  dict_results['Micro F1'] = f1_score(y_test,y_pred, average='micro')\n",
        "  dict_results['Macro F1'] = f1_score(y_test,y_pred, average='macro')\n",
        "  return dict_results"
      ],
      "execution_count": null,
      "outputs": []
    },
    {
      "cell_type": "code",
      "metadata": {
        "id": "f_keNT3einip"
      },
      "source": [
        "def results_k_fold_cross_validation(classifier, X, y, n_splits=10, shuffle=True, random_state = 0):\n",
        "\n",
        "  resultados = pd.DataFrame(columns=['Iteração','Acurácia','Micro Revocação','Macro Revocação','Micro Precisao','Macro Precisao','Micro F1','Macro F1'])\n",
        "\n",
        "  kf = StratifiedKFold(n_splits=n_splits, shuffle=shuffle, random_state = random_state)\n",
        "  contador = 1\n",
        "  for train_index, test_index in kf.split(X,y):\n",
        "    # Separando o conjunto de treino e teste\n",
        "    X_train = X[train_index]\n",
        "    y_train = y[train_index]\n",
        "    X_test = X[test_index]\n",
        "    y_test = y[test_index]\n",
        "\n",
        "    #Construindo um modelo de classificação\n",
        "    classifier.fit(X_train,y_train)\n",
        "\n",
        "    #Avaliando um modelo de classificação com diferentes medidas\n",
        "    y_pred = classifier.predict(X_test)\n",
        "    dict_results = evaluate(y_test, y_pred)\n",
        "    dict_results['Iteração'] = contador\n",
        "    contador = contador + 1\n",
        "    resultados = resultados.append(dict_results, ignore_index=True)\n",
        "  \n",
        "  return resultados"
      ],
      "execution_count": null,
      "outputs": []
    },
    {
      "cell_type": "markdown",
      "metadata": {
        "id": "xvP-nvE6OPIy"
      },
      "source": [
        "# Carregando as Bases"
      ]
    },
    {
      "cell_type": "markdown",
      "metadata": {
        "id": "RdBcU_alfP3c"
      },
      "source": [
        "## Caregando a Weather"
      ]
    },
    {
      "cell_type": "code",
      "metadata": {
        "id": "DFtmWlwV_TB1"
      },
      "source": [
        "df = pd.read_csv('/content/drive/My Drive/Datasets/Toy/weather.nominal.csv')"
      ],
      "execution_count": null,
      "outputs": []
    },
    {
      "cell_type": "markdown",
      "metadata": {
        "id": "hTlc4bDEhSZz"
      },
      "source": [
        "### Conversão de valores discretos para numéricos utilizando um mapeamento manualmente definido"
      ]
    },
    {
      "cell_type": "code",
      "metadata": {
        "id": "XDMqbX4KBBSg"
      },
      "source": [
        "dic_conversao = {'outlook': {'sunny':0,'overcast':1,'rainy':2}, \n",
        "                 'temperature': {'cool':0,'mild':1,'hot':2}, \n",
        "                 'humidity': {'normal':0,'high':1}, \n",
        "                 'windy': {False:0,True:1}}\n",
        "preproc_dicionario(df,dic_conversao)"
      ],
      "execution_count": null,
      "outputs": []
    },
    {
      "cell_type": "markdown",
      "metadata": {
        "id": "ejjeA1zphZjf"
      },
      "source": [
        "### Conversão de valores discretos para numéricos utilizando um LabelEnconder"
      ]
    },
    {
      "cell_type": "code",
      "metadata": {
        "id": "ASCm9Je7DSft"
      },
      "source": [
        "dict_encoders = preproc_enconder(df)"
      ],
      "execution_count": null,
      "outputs": []
    },
    {
      "cell_type": "markdown",
      "metadata": {
        "id": "hzPpwS1piM8_"
      },
      "source": [
        "### Separando os Exemplos e os Rótulos"
      ]
    },
    {
      "cell_type": "code",
      "metadata": {
        "id": "R_gkjXbaAIjr"
      },
      "source": [
        "data = np.array(df)\n",
        "X = data[:,:-1]\n",
        "y = data[:,-1]"
      ],
      "execution_count": null,
      "outputs": []
    },
    {
      "cell_type": "markdown",
      "metadata": {
        "id": "7s5hqQd2_bFk"
      },
      "source": [
        "## Carregando a Iris"
      ]
    },
    {
      "cell_type": "code",
      "metadata": {
        "id": "WEO3EhH7NBIK"
      },
      "source": [
        "data = load_iris()"
      ],
      "execution_count": null,
      "outputs": []
    },
    {
      "cell_type": "markdown",
      "metadata": {
        "id": "NeHEJ9OOiZip"
      },
      "source": [
        "### Separando os Exemplos e os Rótulos"
      ]
    },
    {
      "cell_type": "code",
      "metadata": {
        "id": "fJ8hRMoTOStq"
      },
      "source": [
        "X = data['data']\n",
        "y = data['target']\n",
        "class_names = data['target_names']"
      ],
      "execution_count": null,
      "outputs": []
    },
    {
      "cell_type": "markdown",
      "metadata": {
        "id": "KhHbE3Aim0xJ"
      },
      "source": [
        "#Área de Testes"
      ]
    },
    {
      "cell_type": "code",
      "metadata": {
        "id": "NNfYd8jAlLHi",
        "colab": {
          "base_uri": "https://localhost:8080/",
          "height": 176
        },
        "outputId": "89aa9d9c-0519-47ed-bb01-da59037bae4a"
      },
      "source": [
        "resultados = results_k_fold_cross_validation(MLPClassifier(), X, y, n_splits=4)"
      ],
      "execution_count": null,
      "outputs": [
        {
          "output_type": "stream",
          "text": [
            "/usr/local/lib/python3.6/dist-packages/sklearn/neural_network/_multilayer_perceptron.py:571: ConvergenceWarning: Stochastic Optimizer: Maximum iterations (200) reached and the optimization hasn't converged yet.\n",
            "  % self.max_iter, ConvergenceWarning)\n",
            "/usr/local/lib/python3.6/dist-packages/sklearn/neural_network/_multilayer_perceptron.py:571: ConvergenceWarning: Stochastic Optimizer: Maximum iterations (200) reached and the optimization hasn't converged yet.\n",
            "  % self.max_iter, ConvergenceWarning)\n",
            "/usr/local/lib/python3.6/dist-packages/sklearn/neural_network/_multilayer_perceptron.py:571: ConvergenceWarning: Stochastic Optimizer: Maximum iterations (200) reached and the optimization hasn't converged yet.\n",
            "  % self.max_iter, ConvergenceWarning)\n",
            "/usr/local/lib/python3.6/dist-packages/sklearn/neural_network/_multilayer_perceptron.py:571: ConvergenceWarning: Stochastic Optimizer: Maximum iterations (200) reached and the optimization hasn't converged yet.\n",
            "  % self.max_iter, ConvergenceWarning)\n"
          ],
          "name": "stderr"
        }
      ]
    },
    {
      "cell_type": "code",
      "metadata": {
        "id": "cimw6T_blZ6T",
        "outputId": "79e009a9-26c2-4198-b727-9776d34acb29",
        "colab": {
          "base_uri": "https://localhost:8080/",
          "height": 171
        }
      },
      "source": [
        "resultados"
      ],
      "execution_count": null,
      "outputs": [
        {
          "output_type": "execute_result",
          "data": {
            "text/html": [
              "<div>\n",
              "<style scoped>\n",
              "    .dataframe tbody tr th:only-of-type {\n",
              "        vertical-align: middle;\n",
              "    }\n",
              "\n",
              "    .dataframe tbody tr th {\n",
              "        vertical-align: top;\n",
              "    }\n",
              "\n",
              "    .dataframe thead th {\n",
              "        text-align: right;\n",
              "    }\n",
              "</style>\n",
              "<table border=\"1\" class=\"dataframe\">\n",
              "  <thead>\n",
              "    <tr style=\"text-align: right;\">\n",
              "      <th></th>\n",
              "      <th>Iteração</th>\n",
              "      <th>Acurácia</th>\n",
              "      <th>Micro Revocação</th>\n",
              "      <th>Macro Revocação</th>\n",
              "      <th>Micro Precisao</th>\n",
              "      <th>Macro Precisao</th>\n",
              "      <th>Micro F1</th>\n",
              "      <th>Macro F1</th>\n",
              "    </tr>\n",
              "  </thead>\n",
              "  <tbody>\n",
              "    <tr>\n",
              "      <th>0</th>\n",
              "      <td>1.0</td>\n",
              "      <td>0.894737</td>\n",
              "      <td>0.894737</td>\n",
              "      <td>0.888889</td>\n",
              "      <td>0.894737</td>\n",
              "      <td>0.921569</td>\n",
              "      <td>0.894737</td>\n",
              "      <td>0.888889</td>\n",
              "    </tr>\n",
              "    <tr>\n",
              "      <th>1</th>\n",
              "      <td>2.0</td>\n",
              "      <td>0.894737</td>\n",
              "      <td>0.894737</td>\n",
              "      <td>0.888889</td>\n",
              "      <td>0.894737</td>\n",
              "      <td>0.921569</td>\n",
              "      <td>0.894737</td>\n",
              "      <td>0.888889</td>\n",
              "    </tr>\n",
              "    <tr>\n",
              "      <th>2</th>\n",
              "      <td>3.0</td>\n",
              "      <td>0.837838</td>\n",
              "      <td>0.837838</td>\n",
              "      <td>0.846154</td>\n",
              "      <td>0.837838</td>\n",
              "      <td>0.888889</td>\n",
              "      <td>0.837838</td>\n",
              "      <td>0.833333</td>\n",
              "    </tr>\n",
              "    <tr>\n",
              "      <th>3</th>\n",
              "      <td>4.0</td>\n",
              "      <td>0.972973</td>\n",
              "      <td>0.972973</td>\n",
              "      <td>0.974359</td>\n",
              "      <td>0.972973</td>\n",
              "      <td>0.974359</td>\n",
              "      <td>0.972973</td>\n",
              "      <td>0.973333</td>\n",
              "    </tr>\n",
              "  </tbody>\n",
              "</table>\n",
              "</div>"
            ],
            "text/plain": [
              "   Iteração  Acurácia  Micro Revocação  ...  Macro Precisao  Micro F1  Macro F1\n",
              "0       1.0  0.894737         0.894737  ...        0.921569  0.894737  0.888889\n",
              "1       2.0  0.894737         0.894737  ...        0.921569  0.894737  0.888889\n",
              "2       3.0  0.837838         0.837838  ...        0.888889  0.837838  0.833333\n",
              "3       4.0  0.972973         0.972973  ...        0.974359  0.972973  0.973333\n",
              "\n",
              "[4 rows x 8 columns]"
            ]
          },
          "metadata": {
            "tags": []
          },
          "execution_count": 141
        }
      ]
    },
    {
      "cell_type": "code",
      "metadata": {
        "id": "ogFgwRommeZP",
        "outputId": "f3567d44-4980-4521-f83d-f3a9d45a4191",
        "colab": {
          "base_uri": "https://localhost:8080/",
          "height": 294
        }
      },
      "source": [
        "resultados.describe()"
      ],
      "execution_count": null,
      "outputs": [
        {
          "output_type": "execute_result",
          "data": {
            "text/html": [
              "<div>\n",
              "<style scoped>\n",
              "    .dataframe tbody tr th:only-of-type {\n",
              "        vertical-align: middle;\n",
              "    }\n",
              "\n",
              "    .dataframe tbody tr th {\n",
              "        vertical-align: top;\n",
              "    }\n",
              "\n",
              "    .dataframe thead th {\n",
              "        text-align: right;\n",
              "    }\n",
              "</style>\n",
              "<table border=\"1\" class=\"dataframe\">\n",
              "  <thead>\n",
              "    <tr style=\"text-align: right;\">\n",
              "      <th></th>\n",
              "      <th>Iteração</th>\n",
              "      <th>Acurácia</th>\n",
              "      <th>Micro Revocação</th>\n",
              "      <th>Macro Revocação</th>\n",
              "      <th>Micro Precisao</th>\n",
              "      <th>Macro Precisao</th>\n",
              "      <th>Micro F1</th>\n",
              "      <th>Macro F1</th>\n",
              "    </tr>\n",
              "  </thead>\n",
              "  <tbody>\n",
              "    <tr>\n",
              "      <th>count</th>\n",
              "      <td>4.000000</td>\n",
              "      <td>4.000000</td>\n",
              "      <td>4.000000</td>\n",
              "      <td>4.000000</td>\n",
              "      <td>4.000000</td>\n",
              "      <td>4.000000</td>\n",
              "      <td>4.000000</td>\n",
              "      <td>4.000000</td>\n",
              "    </tr>\n",
              "    <tr>\n",
              "      <th>mean</th>\n",
              "      <td>2.500000</td>\n",
              "      <td>0.900071</td>\n",
              "      <td>0.900071</td>\n",
              "      <td>0.899573</td>\n",
              "      <td>0.900071</td>\n",
              "      <td>0.926596</td>\n",
              "      <td>0.900071</td>\n",
              "      <td>0.896111</td>\n",
              "    </tr>\n",
              "    <tr>\n",
              "      <th>std</th>\n",
              "      <td>1.290994</td>\n",
              "      <td>0.055511</td>\n",
              "      <td>0.055511</td>\n",
              "      <td>0.053774</td>\n",
              "      <td>0.055511</td>\n",
              "      <td>0.035373</td>\n",
              "      <td>0.055511</td>\n",
              "      <td>0.057760</td>\n",
              "    </tr>\n",
              "    <tr>\n",
              "      <th>min</th>\n",
              "      <td>1.000000</td>\n",
              "      <td>0.837838</td>\n",
              "      <td>0.837838</td>\n",
              "      <td>0.846154</td>\n",
              "      <td>0.837838</td>\n",
              "      <td>0.888889</td>\n",
              "      <td>0.837838</td>\n",
              "      <td>0.833333</td>\n",
              "    </tr>\n",
              "    <tr>\n",
              "      <th>25%</th>\n",
              "      <td>1.750000</td>\n",
              "      <td>0.880512</td>\n",
              "      <td>0.880512</td>\n",
              "      <td>0.878205</td>\n",
              "      <td>0.880512</td>\n",
              "      <td>0.913399</td>\n",
              "      <td>0.880512</td>\n",
              "      <td>0.875000</td>\n",
              "    </tr>\n",
              "    <tr>\n",
              "      <th>50%</th>\n",
              "      <td>2.500000</td>\n",
              "      <td>0.894737</td>\n",
              "      <td>0.894737</td>\n",
              "      <td>0.888889</td>\n",
              "      <td>0.894737</td>\n",
              "      <td>0.921569</td>\n",
              "      <td>0.894737</td>\n",
              "      <td>0.888889</td>\n",
              "    </tr>\n",
              "    <tr>\n",
              "      <th>75%</th>\n",
              "      <td>3.250000</td>\n",
              "      <td>0.914296</td>\n",
              "      <td>0.914296</td>\n",
              "      <td>0.910256</td>\n",
              "      <td>0.914296</td>\n",
              "      <td>0.934766</td>\n",
              "      <td>0.914296</td>\n",
              "      <td>0.910000</td>\n",
              "    </tr>\n",
              "    <tr>\n",
              "      <th>max</th>\n",
              "      <td>4.000000</td>\n",
              "      <td>0.972973</td>\n",
              "      <td>0.972973</td>\n",
              "      <td>0.974359</td>\n",
              "      <td>0.972973</td>\n",
              "      <td>0.974359</td>\n",
              "      <td>0.972973</td>\n",
              "      <td>0.973333</td>\n",
              "    </tr>\n",
              "  </tbody>\n",
              "</table>\n",
              "</div>"
            ],
            "text/plain": [
              "       Iteração  Acurácia  Micro Revocação  ...  Macro Precisao  Micro F1  Macro F1\n",
              "count  4.000000  4.000000         4.000000  ...        4.000000  4.000000  4.000000\n",
              "mean   2.500000  0.900071         0.900071  ...        0.926596  0.900071  0.896111\n",
              "std    1.290994  0.055511         0.055511  ...        0.035373  0.055511  0.057760\n",
              "min    1.000000  0.837838         0.837838  ...        0.888889  0.837838  0.833333\n",
              "25%    1.750000  0.880512         0.880512  ...        0.913399  0.880512  0.875000\n",
              "50%    2.500000  0.894737         0.894737  ...        0.921569  0.894737  0.888889\n",
              "75%    3.250000  0.914296         0.914296  ...        0.934766  0.914296  0.910000\n",
              "max    4.000000  0.972973         0.972973  ...        0.974359  0.972973  0.973333\n",
              "\n",
              "[8 rows x 8 columns]"
            ]
          },
          "metadata": {
            "tags": []
          },
          "execution_count": 89
        }
      ]
    },
    {
      "cell_type": "code",
      "metadata": {
        "id": "ZjH2LHyflmwr"
      },
      "source": [
        ""
      ],
      "execution_count": null,
      "outputs": []
    },
    {
      "cell_type": "code",
      "metadata": {
        "id": "ct3vVEI5LWzS"
      },
      "source": [
        ""
      ],
      "execution_count": null,
      "outputs": []
    }
  ]
}