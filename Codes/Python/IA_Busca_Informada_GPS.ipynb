{
  "nbformat": 4,
  "nbformat_minor": 0,
  "metadata": {
    "colab": {
      "name": "IA_Busca_Informada_GPS.ipynb",
      "provenance": [],
      "collapsed_sections": [],
      "toc_visible": true
    },
    "kernelspec": {
      "name": "python3",
      "display_name": "Python 3"
    }
  },
  "cells": [
    {
      "cell_type": "markdown",
      "metadata": {
        "id": "i3hgT-GU8YFb",
        "colab_type": "text"
      },
      "source": [
        "# Caminho da base de dados"
      ]
    },
    {
      "cell_type": "code",
      "metadata": {
        "id": "hCfNbOAe8drY",
        "colab_type": "code",
        "colab": {}
      },
      "source": [
        "path_lista_cidades = '/content/drive/My Drive/Datasets/GPS/lista_cidades.txt'\n",
        "path_lista_distancia_cidades = '/content/drive/My Drive/Datasets/GPS/distancia_cidades.txt'\n",
        "path_latitude_longitude = '/content/drive/My Drive/Datasets/GPS/latitude_longitude.txt'"
      ],
      "execution_count": 0,
      "outputs": []
    },
    {
      "cell_type": "markdown",
      "metadata": {
        "id": "8RJc1SzUBSqf",
        "colab_type": "text"
      },
      "source": [
        "# Classes do programa"
      ]
    },
    {
      "cell_type": "markdown",
      "metadata": {
        "id": "ZzgiCCTVapPV",
        "colab_type": "text"
      },
      "source": [
        "## Classe do Mapa"
      ]
    },
    {
      "cell_type": "code",
      "metadata": {
        "id": "rEVbSS_NBP3u",
        "colab_type": "code",
        "colab": {}
      },
      "source": [
        "class Mapa: \n",
        "\n",
        "  def __init__(self):\n",
        "    self.cidades = {}\n",
        "  \n",
        "  def carregarCidades(self, caminho):\n",
        "    with open(caminho, 'r') as arquivo: \n",
        "      lista_cidades = arquivo.readlines()\n",
        "    \n",
        "    for cid in lista_cidades: \n",
        "      c = cid.strip()\n",
        "      self.cidades[c] = []\n",
        "  \n",
        "  def carregarCidadesVizinhas(self, caminho):\n",
        "    with open(caminho,'r') as arquivo:\n",
        "      vizinhanca = arquivo.readlines()\n",
        "    \n",
        "    for vizinho in vizinhanca: \n",
        "      linha_limpa = vizinho.strip()\n",
        "      cid1, cid2, dist = linha_limpa.split(';')\n",
        "      self.cidades[cid1].append((cid2,float(dist)))\n",
        "\n",
        "  def gerar_sucessores(self,cidade):\n",
        "      return self.cidades[cidade]\n",
        "    \n"
      ],
      "execution_count": 0,
      "outputs": []
    },
    {
      "cell_type": "markdown",
      "metadata": {
        "id": "e8ianPcnatFc",
        "colab_type": "text"
      },
      "source": [
        "## Classes da Busca"
      ]
    },
    {
      "cell_type": "code",
      "metadata": {
        "id": "UTpdmCsUXEHm",
        "colab_type": "code",
        "colab": {
          "base_uri": "https://localhost:8080/",
          "height": 128
        },
        "outputId": "ab71792a-5cda-41ca-c2cd-ad6776cbbd41"
      },
      "source": [
        "class Estado:\n",
        "\n",
        "  def __init__(self, identificador, custo, pai):\n",
        "    self.identificador = identificador \n",
        "    self.custo = custo\n",
        "    self.pai = pai\n",
        "    self.heuristica 0\n",
        "    self.avaliacao = 0\n",
        "\n",
        "\n",
        "  def __repr__(self): \n",
        "    str_id = 'Identificador: ' + self.identificador\n",
        "    str_pai = 'Pai: --'\n",
        "    if self.pai != None: \n",
        "      str_pai = 'Pai: ' + self.pai\n",
        "    str_custo = 'Custo: ' + str(self.custo)\n",
        "    str_heuristica = 'Heuristica: ' + str(self.heuristica)\n",
        "    str_avaliacao = 'Avaliação: ' + str(self.avaliacao)\n",
        "\n",
        "    return str_id + ' | ' + str_pai + ' | ' + str_custo + ' | ' + ' | ' + str_heuristica + ' | ' + str_avaliacao \n"
      ],
      "execution_count": 148,
      "outputs": [
        {
          "output_type": "error",
          "ename": "SyntaxError",
          "evalue": "ignored",
          "traceback": [
            "\u001b[0;36m  File \u001b[0;32m\"<ipython-input-149-140f5c83efef>\"\u001b[0;36m, line \u001b[0;32m7\u001b[0m\n\u001b[0;31m    self.heuristica 0\u001b[0m\n\u001b[0m                    ^\u001b[0m\n\u001b[0;31mSyntaxError\u001b[0m\u001b[0;31m:\u001b[0m invalid syntax\n"
          ]
        }
      ]
    },
    {
      "cell_type": "code",
      "metadata": {
        "id": "ddEQ3BAYayZG",
        "colab_type": "code",
        "colab": {}
      },
      "source": [
        "class Busca: \n",
        "\n",
        "  def __init__(self,estado_inicial, estado_objetivo, regra, estrategia, heuristica=None): \n",
        "    self.fronteira = []\n",
        "    self.explorados = {}\n",
        "    self.estado_objetivo = estado_objetivo \n",
        "    self.fronteira.append(estado_inicial)\n",
        "    self.regra = regra \n",
        "    self.heuristica = heuristica\n",
        "    self.estrategia = estrategia\n",
        "    \n",
        "\n",
        "  def buscar_solucao(self): \n",
        "    while len(self.fronteira) > 0:\n",
        "      estado, self.fronteira = self.tirar_fronteira()\n",
        "      print('Estado retirado da fronteira: ', estado)\n",
        "      if estado.identificador == self.estado_objetivo.identificador:\n",
        "        print('É o estado objetivo')\n",
        "        print('Lista de explorados!!!')\n",
        "        print(self.explorados)\n",
        "        return self.retornar_caminho(estado)\n",
        "      else: \n",
        "        print('Não é o objetivo')\n",
        "        if estado.identificador in self.explorados: \n",
        "          if self.explorados[estado.identificador].custo > estado.custo:\n",
        "            self.explorados[estado.identificador] = estado \n",
        "        else: \n",
        "          self.explorados[estado.identificador] = estado \n",
        "        adjacentes = self.regra.gerar_sucessores(estado.identificador)\n",
        "        sucessores = self.gerar_sucessores(adjacentes, estado)\n",
        "        self.fronteira = self.inserir_ordenado(self.fronteira, sucessores)\n",
        "        print('Fronteira: ', self.fronteira)\n",
        "    return None   \n",
        "  \n",
        "  def inserir_ordenado(self,fronteira,sucessores): \n",
        "    for sucessor in sucessores: \n",
        "      cont = 0;\n",
        "      while cont < len(fronteira):\n",
        "        if sucessor.avaliacao > fronteira[cont].avaliacao:\n",
        "          cont = cont + 1\n",
        "        else: \n",
        "          break \n",
        "      if cont < len(fronteira): \n",
        "        fronteira.insert(cont,sucessor)\n",
        "      else:\n",
        "        fronteira.append(sucessor)\n",
        "    return fronteira\n",
        "\n",
        "\n",
        "  def gerar_sucessores(self, adjacentes, estado_pai):\n",
        "    lista_sucessores = [] \n",
        "    for adjacente in adjacentes:\n",
        "      vizinho, custo_vizinho = adjacente\n",
        "      estado = Estado(vizinho,estado_pai.custo + custo_vizinho,estado_pai.identificador)\n",
        "      if self.heuristica != None: \n",
        "        self.heuristica.calc_heuristica(estado,self.estado_objetivo)\n",
        "      self.estrategia.funcao_avaliacao(estado)\n",
        "      if (adjacente not in self.explorados):         \n",
        "        lista_sucessores.append(estado)\n",
        "      elif self.explorados[estado.identificador].custo > estado.custo:\n",
        "        lista_sucessores.append(estado)\n",
        "      \n",
        "    return lista_sucessores\n",
        "\n",
        "  def tirar_fronteira(self):\n",
        "    estado = self.fronteira[0]\n",
        "    return estado, self.fronteira[1:]\n",
        "  \n",
        "  def retornar_caminho(self, estado): \n",
        "    print('========================')\n",
        "    print('===RESULTADO DA BUSCA===')\n",
        "    print('========================')\n",
        "    print('Custo: ', estado.custo)\n",
        "    \n",
        "    caminho = []\n",
        "    estado_atual = estado\n",
        "    while(estado_atual.pai != None):\n",
        "      caminho.append(estado_atual.identificador)\n",
        "      estado_atual = self.explorados[estado_atual.pai]\n",
        "    \n",
        "    caminho.append(estado_atual.identificador)\n",
        "    caminho.reverse()\n",
        "    return caminho\n",
        "\n"
      ],
      "execution_count": 0,
      "outputs": []
    },
    {
      "cell_type": "code",
      "metadata": {
        "id": "Hssd26NuWx24",
        "colab_type": "code",
        "colab": {}
      },
      "source": [
        "class HeuristicaLinhaReta: \n",
        "\n",
        "  def __init__(self,caminho):\n",
        "    self.coordenadas = {}\n",
        "    with open(caminho,'r') as arquivo:\n",
        "      for linha in arquivo: \n",
        "        cidade, latitude, longitude = linha.strip().split(';')\n",
        "        self.coordenadas[cidade] = (float(latitude),float(longitude))\n",
        "\n",
        "  def calc_heuristica(self, estado, estadoObj):\n",
        "    coordenadas1 = self.coordenadas[estado.identificador]\n",
        "    coordenadas2 = self.coordenadas[estadoObj.identificador]\n",
        "    dist = ( (coordenadas1[0] - coordenadas2[0])**2 +  (coordenadas1[1] - coordenadas2[1])**2) ** 0.5\n",
        "    estado.heuristica = dist\n"
      ],
      "execution_count": 0,
      "outputs": []
    },
    {
      "cell_type": "code",
      "metadata": {
        "id": "56qShwzahSir",
        "colab_type": "code",
        "colab": {}
      },
      "source": [
        "class BranchAndBound: \n",
        "  def funcao_avaliacao(self, estado): \n",
        "    estado.avaliacao = estado.custo"
      ],
      "execution_count": 0,
      "outputs": []
    },
    {
      "cell_type": "code",
      "metadata": {
        "id": "k6hHx-SThcme",
        "colab_type": "code",
        "colab": {}
      },
      "source": [
        "class BestFirst: \n",
        "  def funcao_avaliacao(self, estado):\n",
        "    estado.avaliacao = estado.heuristica\n",
        "    "
      ],
      "execution_count": 0,
      "outputs": []
    },
    {
      "cell_type": "code",
      "metadata": {
        "id": "4z1XiLAvhgys",
        "colab_type": "code",
        "colab": {}
      },
      "source": [
        "class AStar:\n",
        "  def funcao_avaliacao(self, estado): \n",
        "    estado.avaliacao = estado.custo + estado.heuristica"
      ],
      "execution_count": 0,
      "outputs": []
    },
    {
      "cell_type": "markdown",
      "metadata": {
        "id": "qV2hSvKkaeWR",
        "colab_type": "text"
      },
      "source": [
        "# Carregar Mapa"
      ]
    },
    {
      "cell_type": "code",
      "metadata": {
        "id": "qtI28pJoC6C_",
        "colab_type": "code",
        "colab": {}
      },
      "source": [
        "mapa = Mapa()\n",
        "mapa.carregarCidades(path_lista_cidades)\n",
        "mapa.carregarCidadesVizinhas(path_lista_distancia_cidades)"
      ],
      "execution_count": 0,
      "outputs": []
    },
    {
      "cell_type": "markdown",
      "metadata": {
        "id": "hY5_xxUf8rR1",
        "colab_type": "text"
      },
      "source": [
        "# Resto do Programa:\n"
      ]
    },
    {
      "cell_type": "code",
      "metadata": {
        "id": "uJ9zpmyzumZx",
        "colab_type": "code",
        "colab": {}
      },
      "source": [
        "branch_and_bound = BranchAndBound()\n",
        "best_first = BestFirst()\n",
        "a_star = AStar()"
      ],
      "execution_count": 0,
      "outputs": []
    },
    {
      "cell_type": "code",
      "metadata": {
        "id": "V6fOYCRCvKm4",
        "colab_type": "code",
        "colab": {}
      },
      "source": [
        "estado_inicial = Estado('Arad',0,None,None)\n",
        "estado_final = Estado('Bucharest',0,None,None)\n",
        "heuristica = HeuristicaLinhaReta(path_latitude_longitude)\n",
        "busca = Busca(estado_inicial, estado_final, mapa, a_star, heuristica)"
      ],
      "execution_count": 0,
      "outputs": []
    },
    {
      "cell_type": "code",
      "metadata": {
        "id": "NLVPqDBFvm6f",
        "colab_type": "code",
        "outputId": "7ae0e5dd-0b6c-405a-cc90-61e946535836",
        "colab": {
          "base_uri": "https://localhost:8080/",
          "height": 457
        }
      },
      "source": [
        "busca.buscar_solucao()"
      ],
      "execution_count": 159,
      "outputs": [
        {
          "output_type": "stream",
          "text": [
            "Estado retirado da fronteira:  Identificador: Arad | Pai: -- | Custo: 0 |  | Heuristica: 0 | Avaliação: 0\n",
            "Não é o objetivo\n",
            "Fronteira:  [Identificador: Sibiu | Pai: Arad | Custo: 140.0 |  | Heuristica: 301.0813843464919 | Avaliação: 441.0813843464919, Identificador: Timisoara | Pai: Arad | Custo: 118.0 |  | Heuristica: 349.6069221282668 | Avaliação: 467.6069221282668, Identificador: Zerind | Pai: Arad | Custo: 75.0 |  | Heuristica: 397.0201506221063 | Avaliação: 472.0201506221063]\n",
            "Estado retirado da fronteira:  Identificador: Sibiu | Pai: Arad | Custo: 140.0 |  | Heuristica: 301.0813843464919 | Avaliação: 441.0813843464919\n",
            "Não é o objetivo\n",
            "Fronteira:  [Identificador: Rimnicu Vilcea | Pai: Sibiu | Custo: 220.0 |  | Heuristica: 194.74342094150447 | Avaliação: 414.7434209415045, Identificador: Fagaras | Pai: Sibiu | Custo: 239.0 |  | Heuristica: 176.13914953808538 | Avaliação: 415.13914953808535, Identificador: Timisoara | Pai: Arad | Custo: 118.0 |  | Heuristica: 349.6069221282668 | Avaliação: 467.6069221282668, Identificador: Zerind | Pai: Arad | Custo: 75.0 |  | Heuristica: 397.0201506221063 | Avaliação: 472.0201506221063, Identificador: Arad | Pai: Sibiu | Custo: 280.0 |  | Heuristica: 380.06446821559103 | Avaliação: 660.064468215591, Identificador: Oradea | Pai: Sibiu | Custo: 291.0 |  | Heuristica: 410.67018396762137 | Avaliação: 701.6701839676214]\n",
            "Estado retirado da fronteira:  Identificador: Rimnicu Vilcea | Pai: Sibiu | Custo: 220.0 |  | Heuristica: 194.74342094150447 | Avaliação: 414.7434209415045\n",
            "Não é o objetivo\n",
            "Fronteira:  [Identificador: Fagaras | Pai: Sibiu | Custo: 239.0 |  | Heuristica: 176.13914953808538 | Avaliação: 415.13914953808535, Identificador: Pitesti | Pai: Rimnicu Vilcea | Custo: 317.0 |  | Heuristica: 105.47511554864494 | Avaliação: 422.4751155486449, Identificador: Timisoara | Pai: Arad | Custo: 118.0 |  | Heuristica: 349.6069221282668 | Avaliação: 467.6069221282668, Identificador: Zerind | Pai: Arad | Custo: 75.0 |  | Heuristica: 397.0201506221063 | Avaliação: 472.0201506221063, Identificador: Craiova | Pai: Rimnicu Vilcea | Custo: 366.0 |  | Heuristica: 160.0781059358212 | Avaliação: 526.0781059358212, Identificador: Sibiu | Pai: Rimnicu Vilcea | Custo: 300.0 |  | Heuristica: 301.0813843464919 | Avaliação: 601.0813843464919, Identificador: Arad | Pai: Sibiu | Custo: 280.0 |  | Heuristica: 380.06446821559103 | Avaliação: 660.064468215591, Identificador: Oradea | Pai: Sibiu | Custo: 291.0 |  | Heuristica: 410.67018396762137 | Avaliação: 701.6701839676214]\n",
            "Estado retirado da fronteira:  Identificador: Fagaras | Pai: Sibiu | Custo: 239.0 |  | Heuristica: 176.13914953808538 | Avaliação: 415.13914953808535\n",
            "Não é o objetivo\n",
            "Fronteira:  [Identificador: Pitesti | Pai: Rimnicu Vilcea | Custo: 317.0 |  | Heuristica: 105.47511554864494 | Avaliação: 422.4751155486449, Identificador: Bucharest | Pai: Fagaras | Custo: 450.0 |  | Heuristica: 0.0 | Avaliação: 450.0, Identificador: Timisoara | Pai: Arad | Custo: 118.0 |  | Heuristica: 349.6069221282668 | Avaliação: 467.6069221282668, Identificador: Zerind | Pai: Arad | Custo: 75.0 |  | Heuristica: 397.0201506221063 | Avaliação: 472.0201506221063, Identificador: Craiova | Pai: Rimnicu Vilcea | Custo: 366.0 |  | Heuristica: 160.0781059358212 | Avaliação: 526.0781059358212, Identificador: Sibiu | Pai: Rimnicu Vilcea | Custo: 300.0 |  | Heuristica: 301.0813843464919 | Avaliação: 601.0813843464919, Identificador: Sibiu | Pai: Fagaras | Custo: 338.0 |  | Heuristica: 301.0813843464919 | Avaliação: 639.0813843464919, Identificador: Arad | Pai: Sibiu | Custo: 280.0 |  | Heuristica: 380.06446821559103 | Avaliação: 660.064468215591, Identificador: Oradea | Pai: Sibiu | Custo: 291.0 |  | Heuristica: 410.67018396762137 | Avaliação: 701.6701839676214]\n",
            "Estado retirado da fronteira:  Identificador: Pitesti | Pai: Rimnicu Vilcea | Custo: 317.0 |  | Heuristica: 105.47511554864494 | Avaliação: 422.4751155486449\n",
            "Não é o objetivo\n",
            "Fronteira:  [Identificador: Bucharest | Pai: Pitesti | Custo: 418.0 |  | Heuristica: 0.0 | Avaliação: 418.0, Identificador: Bucharest | Pai: Fagaras | Custo: 450.0 |  | Heuristica: 0.0 | Avaliação: 450.0, Identificador: Timisoara | Pai: Arad | Custo: 118.0 |  | Heuristica: 349.6069221282668 | Avaliação: 467.6069221282668, Identificador: Zerind | Pai: Arad | Custo: 75.0 |  | Heuristica: 397.0201506221063 | Avaliação: 472.0201506221063, Identificador: Craiova | Pai: Rimnicu Vilcea | Custo: 366.0 |  | Heuristica: 160.0781059358212 | Avaliação: 526.0781059358212, Identificador: Sibiu | Pai: Rimnicu Vilcea | Custo: 300.0 |  | Heuristica: 301.0813843464919 | Avaliação: 601.0813843464919, Identificador: Rimnicu Vilcea | Pai: Pitesti | Custo: 414.0 |  | Heuristica: 194.74342094150447 | Avaliação: 608.7434209415045, Identificador: Craiova | Pai: Pitesti | Custo: 455.0 |  | Heuristica: 160.0781059358212 | Avaliação: 615.0781059358212, Identificador: Sibiu | Pai: Fagaras | Custo: 338.0 |  | Heuristica: 301.0813843464919 | Avaliação: 639.0813843464919, Identificador: Arad | Pai: Sibiu | Custo: 280.0 |  | Heuristica: 380.06446821559103 | Avaliação: 660.064468215591, Identificador: Oradea | Pai: Sibiu | Custo: 291.0 |  | Heuristica: 410.67018396762137 | Avaliação: 701.6701839676214]\n",
            "Estado retirado da fronteira:  Identificador: Bucharest | Pai: Pitesti | Custo: 418.0 |  | Heuristica: 0.0 | Avaliação: 418.0\n",
            "É o estado objetivo\n",
            "Lista de explorados!!!\n",
            "{'Arad': Identificador: Arad | Pai: -- | Custo: 0 |  | Heuristica: 0 | Avaliação: 0, 'Sibiu': Identificador: Sibiu | Pai: Arad | Custo: 140.0 |  | Heuristica: 301.0813843464919 | Avaliação: 441.0813843464919, 'Rimnicu Vilcea': Identificador: Rimnicu Vilcea | Pai: Sibiu | Custo: 220.0 |  | Heuristica: 194.74342094150447 | Avaliação: 414.7434209415045, 'Fagaras': Identificador: Fagaras | Pai: Sibiu | Custo: 239.0 |  | Heuristica: 176.13914953808538 | Avaliação: 415.13914953808535, 'Pitesti': Identificador: Pitesti | Pai: Rimnicu Vilcea | Custo: 317.0 |  | Heuristica: 105.47511554864494 | Avaliação: 422.4751155486449}\n",
            "Here\n",
            "========================\n",
            "===RESULTADO DA BUSCA===\n",
            "========================\n",
            "Custo:  418.0\n"
          ],
          "name": "stdout"
        },
        {
          "output_type": "execute_result",
          "data": {
            "text/plain": [
              "['Arad', 'Sibiu', 'Rimnicu Vilcea', 'Pitesti', 'Bucharest']"
            ]
          },
          "metadata": {
            "tags": []
          },
          "execution_count": 159
        }
      ]
    },
    {
      "cell_type": "markdown",
      "metadata": {
        "id": "6uK0nSpqiFHk",
        "colab_type": "text"
      },
      "source": [
        "# Área de testes"
      ]
    },
    {
      "cell_type": "code",
      "metadata": {
        "id": "Z4Lif3gipYtt",
        "colab_type": "code",
        "colab": {}
      },
      "source": [
        "lista = [5,10,20]"
      ],
      "execution_count": 0,
      "outputs": []
    },
    {
      "cell_type": "code",
      "metadata": {
        "id": "JjMkUWJAqJEW",
        "colab_type": "code",
        "colab": {
          "base_uri": "https://localhost:8080/",
          "height": 34
        },
        "outputId": "0b8f96bf-5b6d-4222-f21b-88a673364f66"
      },
      "source": [
        "lista"
      ],
      "execution_count": 144,
      "outputs": [
        {
          "output_type": "execute_result",
          "data": {
            "text/plain": [
              "[5, 10, 20]"
            ]
          },
          "metadata": {
            "tags": []
          },
          "execution_count": 144
        }
      ]
    },
    {
      "cell_type": "code",
      "metadata": {
        "id": "gDdmUyKrqLuC",
        "colab_type": "code",
        "colab": {}
      },
      "source": [
        "lista.insert(2,15)"
      ],
      "execution_count": 0,
      "outputs": []
    },
    {
      "cell_type": "code",
      "metadata": {
        "id": "AEclDHk5qNqG",
        "colab_type": "code",
        "colab": {
          "base_uri": "https://localhost:8080/",
          "height": 34
        },
        "outputId": "63676d0f-7f0c-4cb1-c72e-9fd37b04b298"
      },
      "source": [
        "lista"
      ],
      "execution_count": 146,
      "outputs": [
        {
          "output_type": "execute_result",
          "data": {
            "text/plain": [
              "[5, 10, 15, 20]"
            ]
          },
          "metadata": {
            "tags": []
          },
          "execution_count": 146
        }
      ]
    },
    {
      "cell_type": "code",
      "metadata": {
        "id": "leU1sfqgs7hR",
        "colab_type": "code",
        "colab": {}
      },
      "source": [
        ""
      ],
      "execution_count": 0,
      "outputs": []
    }
  ]
}